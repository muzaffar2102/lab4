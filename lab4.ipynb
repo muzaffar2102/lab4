{
 "cells": [
  {
   "cell_type": "markdown",
   "id": "be039b72",
   "metadata": {},
   "source": [
    "Импорт библиотек:"
   ]
  },
  {
   "cell_type": "code",
   "execution_count": 1,
   "id": "2faf031b",
   "metadata": {},
   "outputs": [],
   "source": [
    "import pandas as pd\n",
    "import matplotlib.pyplot as plt\n",
    "from sklearn.cluster import MeanShift"
   ]
  },
  {
   "cell_type": "markdown",
   "id": "5cff30fc",
   "metadata": {},
   "source": [
    "Считывание и предобработка данных:"
   ]
  },
  {
   "cell_type": "code",
   "execution_count": 2,
   "id": "ac4142d9",
   "metadata": {},
   "outputs": [
    {
     "name": "stderr",
     "output_type": "stream",
     "text": [
      "C:\\Users\\andre\\anaconda3\\lib\\site-packages\\IPython\\core\\interactiveshell.py:3165: DtypeWarning: Columns (0) have mixed types.Specify dtype option on import or set low_memory=False.\n",
      "  has_raised = await self.run_ast_nodes(code_ast.body, cell_name,\n"
     ]
    }
   ],
   "source": [
    "df = pd.read_csv('checkins.dat', sep='|', header=0, skipinitialspace=True)"
   ]
  },
  {
   "cell_type": "code",
   "execution_count": 3,
   "id": "9185123d",
   "metadata": {},
   "outputs": [],
   "source": [
    "df.dropna(inplace=True)\n",
    "df.columns = [name.strip() for name in df.columns]\n",
    "df = df.iloc[0:100000]"
   ]
  },
  {
   "cell_type": "code",
   "execution_count": 4,
   "id": "1d60caac",
   "metadata": {},
   "outputs": [
    {
     "data": {
      "text/html": [
       "<div>\n",
       "<style scoped>\n",
       "    .dataframe tbody tr th:only-of-type {\n",
       "        vertical-align: middle;\n",
       "    }\n",
       "\n",
       "    .dataframe tbody tr th {\n",
       "        vertical-align: top;\n",
       "    }\n",
       "\n",
       "    .dataframe thead th {\n",
       "        text-align: right;\n",
       "    }\n",
       "</style>\n",
       "<table border=\"1\" class=\"dataframe\">\n",
       "  <thead>\n",
       "    <tr style=\"text-align: right;\">\n",
       "      <th></th>\n",
       "      <th>id</th>\n",
       "      <th>user_id</th>\n",
       "      <th>venue_id</th>\n",
       "      <th>latitude</th>\n",
       "      <th>longitude</th>\n",
       "      <th>created_at</th>\n",
       "    </tr>\n",
       "  </thead>\n",
       "  <tbody>\n",
       "    <tr>\n",
       "      <th>2</th>\n",
       "      <td>984222</td>\n",
       "      <td>15824.0</td>\n",
       "      <td>5222.0</td>\n",
       "      <td>38.895112</td>\n",
       "      <td>-77.036366</td>\n",
       "      <td>2012-04-21 17:43:47</td>\n",
       "    </tr>\n",
       "    <tr>\n",
       "      <th>4</th>\n",
       "      <td>984234</td>\n",
       "      <td>44652.0</td>\n",
       "      <td>5222.0</td>\n",
       "      <td>33.800745</td>\n",
       "      <td>-84.410520</td>\n",
       "      <td>2012-04-21 17:43:43</td>\n",
       "    </tr>\n",
       "    <tr>\n",
       "      <th>8</th>\n",
       "      <td>984291</td>\n",
       "      <td>105054.0</td>\n",
       "      <td>5222.0</td>\n",
       "      <td>45.523452</td>\n",
       "      <td>-122.676207</td>\n",
       "      <td>2012-04-21 17:39:22</td>\n",
       "    </tr>\n",
       "    <tr>\n",
       "      <th>10</th>\n",
       "      <td>984318</td>\n",
       "      <td>2146539.0</td>\n",
       "      <td>5222.0</td>\n",
       "      <td>40.764462</td>\n",
       "      <td>-111.904565</td>\n",
       "      <td>2012-04-21 17:35:46</td>\n",
       "    </tr>\n",
       "    <tr>\n",
       "      <th>11</th>\n",
       "      <td>984232</td>\n",
       "      <td>93870.0</td>\n",
       "      <td>380645.0</td>\n",
       "      <td>33.448377</td>\n",
       "      <td>-112.074037</td>\n",
       "      <td>2012-04-21 17:38:18</td>\n",
       "    </tr>\n",
       "    <tr>\n",
       "      <th>...</th>\n",
       "      <td>...</td>\n",
       "      <td>...</td>\n",
       "      <td>...</td>\n",
       "      <td>...</td>\n",
       "      <td>...</td>\n",
       "      <td>...</td>\n",
       "    </tr>\n",
       "    <tr>\n",
       "      <th>233789</th>\n",
       "      <td>123888</td>\n",
       "      <td>1019078.0</td>\n",
       "      <td>1105563.0</td>\n",
       "      <td>33.575000</td>\n",
       "      <td>-117.725556</td>\n",
       "      <td>2011-12-11 05:38:19</td>\n",
       "    </tr>\n",
       "    <tr>\n",
       "      <th>233790</th>\n",
       "      <td>124366</td>\n",
       "      <td>771129.0</td>\n",
       "      <td>329847.0</td>\n",
       "      <td>37.629349</td>\n",
       "      <td>-122.400087</td>\n",
       "      <td>2011-12-11 04:55:34</td>\n",
       "    </tr>\n",
       "    <tr>\n",
       "      <th>233794</th>\n",
       "      <td>125556</td>\n",
       "      <td>804990.0</td>\n",
       "      <td>254046.0</td>\n",
       "      <td>29.762884</td>\n",
       "      <td>-95.383061</td>\n",
       "      <td>2011-12-11 06:54:20</td>\n",
       "    </tr>\n",
       "    <tr>\n",
       "      <th>233798</th>\n",
       "      <td>127250</td>\n",
       "      <td>526214.0</td>\n",
       "      <td>34473.0</td>\n",
       "      <td>32.802955</td>\n",
       "      <td>-96.769923</td>\n",
       "      <td>2011-12-11 10:05:38</td>\n",
       "    </tr>\n",
       "    <tr>\n",
       "      <th>233799</th>\n",
       "      <td>127284</td>\n",
       "      <td>290973.0</td>\n",
       "      <td>280656.0</td>\n",
       "      <td>37.774929</td>\n",
       "      <td>-122.419415</td>\n",
       "      <td>2011-12-11 08:24:40</td>\n",
       "    </tr>\n",
       "  </tbody>\n",
       "</table>\n",
       "<p>100000 rows × 6 columns</p>\n",
       "</div>"
      ],
      "text/plain": [
       "             id    user_id   venue_id   latitude   longitude  \\\n",
       "2       984222     15824.0     5222.0  38.895112  -77.036366   \n",
       "4       984234     44652.0     5222.0  33.800745  -84.410520   \n",
       "8       984291    105054.0     5222.0  45.523452 -122.676207   \n",
       "10      984318   2146539.0     5222.0  40.764462 -111.904565   \n",
       "11      984232     93870.0   380645.0  33.448377 -112.074037   \n",
       "...         ...        ...        ...        ...         ...   \n",
       "233789   123888  1019078.0  1105563.0  33.575000 -117.725556   \n",
       "233790   124366   771129.0   329847.0  37.629349 -122.400087   \n",
       "233794   125556   804990.0   254046.0  29.762884  -95.383061   \n",
       "233798   127250   526214.0    34473.0  32.802955  -96.769923   \n",
       "233799   127284   290973.0   280656.0  37.774929 -122.419415   \n",
       "\n",
       "                 created_at  \n",
       "2       2012-04-21 17:43:47  \n",
       "4       2012-04-21 17:43:43  \n",
       "8       2012-04-21 17:39:22  \n",
       "10      2012-04-21 17:35:46  \n",
       "11      2012-04-21 17:38:18  \n",
       "...                     ...  \n",
       "233789  2011-12-11 05:38:19  \n",
       "233790  2011-12-11 04:55:34  \n",
       "233794  2011-12-11 06:54:20  \n",
       "233798  2011-12-11 10:05:38  \n",
       "233799  2011-12-11 08:24:40  \n",
       "\n",
       "[100000 rows x 6 columns]"
      ]
     },
     "execution_count": 4,
     "metadata": {},
     "output_type": "execute_result"
    }
   ],
   "source": [
    "df"
   ]
  },
  {
   "cell_type": "code",
   "execution_count": 5,
   "id": "c715bcbd",
   "metadata": {
    "scrolled": true
   },
   "outputs": [
    {
     "data": {
      "text/plain": [
       "<AxesSubplot:xlabel='longitude', ylabel='latitude'>"
      ]
     },
     "execution_count": 5,
     "metadata": {},
     "output_type": "execute_result"
    },
    {
     "data": {
      "image/png": "[encoded data removed]",
      "text/plain": [
       "<Figure size 432x288 with 1 Axes>"
      ]
     },
     "metadata": {
      "needs_background": "light"
     },
     "output_type": "display_data"
    }
   ],
   "source": [
    "df.plot.scatter(x='longitude', y='latitude', alpha=0.3)"
   ]
  },
  {
   "cell_type": "markdown",
   "id": "08d93b87",
   "metadata": {},
   "source": [
    "Кластеризация:"
   ]
  },
  {
   "cell_type": "code",
   "execution_count": 6,
   "id": "7bf3d2f5",
   "metadata": {},
   "outputs": [],
   "source": [
    "clustering = MeanShift(bandwidth=0.1)"
   ]
  },
  {
   "cell_type": "code",
   "execution_count": 7,
   "id": "4a550c89",
   "metadata": {},
   "outputs": [
    {
     "data": {
      "text/plain": [
       "MeanShift(bandwidth=0.1)"
      ]
     },
     "execution_count": 7,
     "metadata": {},
     "output_type": "execute_result"
    }
   ],
   "source": [
    "clustering.fit(df[['latitude', 'longitude']])"
   ]
  },
  {
   "cell_type": "markdown",
   "id": "ada8fd8d",
   "metadata": {},
   "source": [
    "Координаты центров полученных кластеров:"
   ]
  },
  {
   "cell_type": "code",
   "execution_count": 10,
   "id": "7d726ae7",
   "metadata": {},
   "outputs": [],
   "source": [
    "cluster_centers_x = [el[1] for el in clustering.cluster_centers_]\n",
    "cluster_centers_y = [el[0] for el in clustering.cluster_centers_]"
   ]
  },
  {
   "cell_type": "code",
   "execution_count": 18,
   "id": "699d6b11",
   "metadata": {},
   "outputs": [
    {
     "data": {
      "text/plain": [
       "<matplotlib.collections.PathCollection at 0x2345decd730>"
      ]
     },
     "execution_count": 18,
     "metadata": {},
     "output_type": "execute_result"
    },
    {
     "data": {
      "image/png": "[encoded data removed]",
      "text/plain": [
       "<Figure size 432x288 with 1 Axes>"
      ]
     },
     "metadata": {
      "needs_background": "light"
     },
     "output_type": "display_data"
    }
   ],
   "source": [
    "plt.scatter(x=cluster_centers_x, y=cluster_centers_y, alpha=0.3)"
   ]
  },
  {
   "cell_type": "markdown",
   "id": "5bb072dc",
   "metadata": {},
   "source": [
    "Получение номеров кластеров, в которых 15 элементов и больше:"
   ]
  },
  {
   "cell_type": "code",
   "execution_count": 13,
   "id": "32d1b4b5",
   "metadata": {},
   "outputs": [],
   "source": [
    "good_labels = []\n",
    "for label in set(clustering.labels_):\n",
    "    if len(clustering.labels_[clustering.labels_ == label]) >= 15:\n",
    "        good_labels.append(label)"
   ]
  },
  {
   "cell_type": "markdown",
   "id": "68532e75",
   "metadata": {},
   "source": [
    "Координаты 'хороших' кластеров:"
   ]
  },
  {
   "cell_type": "code",
   "execution_count": 45,
   "id": "7867dadb",
   "metadata": {},
   "outputs": [
    {
     "data": {
      "text/html": [
       "<div>\n",
       "<style scoped>\n",
       "    .dataframe tbody tr th:only-of-type {\n",
       "        vertical-align: middle;\n",
       "    }\n",
       "\n",
       "    .dataframe tbody tr th {\n",
       "        vertical-align: top;\n",
       "    }\n",
       "\n",
       "    .dataframe thead th {\n",
       "        text-align: right;\n",
       "    }\n",
       "</style>\n",
       "<table border=\"1\" class=\"dataframe\">\n",
       "  <thead>\n",
       "    <tr style=\"text-align: right;\">\n",
       "      <th></th>\n",
       "      <th>longitude</th>\n",
       "      <th>latitude</th>\n",
       "      <th>label</th>\n",
       "    </tr>\n",
       "  </thead>\n",
       "  <tbody>\n",
       "    <tr>\n",
       "      <th>0</th>\n",
       "      <td>-73.991835</td>\n",
       "      <td>40.717716</td>\n",
       "      <td>0</td>\n",
       "    </tr>\n",
       "    <tr>\n",
       "      <th>1</th>\n",
       "      <td>-112.002140</td>\n",
       "      <td>33.449438</td>\n",
       "      <td>1</td>\n",
       "    </tr>\n",
       "    <tr>\n",
       "      <th>2</th>\n",
       "      <td>-111.901888</td>\n",
       "      <td>33.446380</td>\n",
       "      <td>2</td>\n",
       "    </tr>\n",
       "    <tr>\n",
       "      <th>3</th>\n",
       "      <td>-87.629843</td>\n",
       "      <td>41.878244</td>\n",
       "      <td>3</td>\n",
       "    </tr>\n",
       "    <tr>\n",
       "      <th>4</th>\n",
       "      <td>-122.409330</td>\n",
       "      <td>37.688682</td>\n",
       "      <td>4</td>\n",
       "    </tr>\n",
       "    <tr>\n",
       "      <th>...</th>\n",
       "      <td>...</td>\n",
       "      <td>...</td>\n",
       "      <td>...</td>\n",
       "    </tr>\n",
       "    <tr>\n",
       "      <th>712</th>\n",
       "      <td>-122.940805</td>\n",
       "      <td>49.199791</td>\n",
       "      <td>712</td>\n",
       "    </tr>\n",
       "    <tr>\n",
       "      <th>727</th>\n",
       "      <td>-73.666619</td>\n",
       "      <td>41.220398</td>\n",
       "      <td>727</td>\n",
       "    </tr>\n",
       "    <tr>\n",
       "      <th>884</th>\n",
       "      <td>-88.445568</td>\n",
       "      <td>41.618532</td>\n",
       "      <td>884</td>\n",
       "    </tr>\n",
       "    <tr>\n",
       "      <th>1343</th>\n",
       "      <td>-77.182127</td>\n",
       "      <td>39.249469</td>\n",
       "      <td>1343</td>\n",
       "    </tr>\n",
       "    <tr>\n",
       "      <th>1350</th>\n",
       "      <td>-76.885687</td>\n",
       "      <td>38.658779</td>\n",
       "      <td>1350</td>\n",
       "    </tr>\n",
       "  </tbody>\n",
       "</table>\n",
       "<p>624 rows × 3 columns</p>\n",
       "</div>"
      ],
      "text/plain": [
       "       longitude   latitude  label\n",
       "0     -73.991835  40.717716      0\n",
       "1    -112.002140  33.449438      1\n",
       "2    -111.901888  33.446380      2\n",
       "3     -87.629843  41.878244      3\n",
       "4    -122.409330  37.688682      4\n",
       "...          ...        ...    ...\n",
       "712  -122.940805  49.199791    712\n",
       "727   -73.666619  41.220398    727\n",
       "884   -88.445568  41.618532    884\n",
       "1343  -77.182127  39.249469   1343\n",
       "1350  -76.885687  38.658779   1350\n",
       "\n",
       "[624 rows x 3 columns]"
      ]
     },
     "execution_count": 45,
     "metadata": {},
     "output_type": "execute_result"
    }
   ],
   "source": [
    "cluster_centers = pd.DataFrame({'longitude': cluster_centers_x,\n",
    "                                'latitude': cluster_centers_y, 'label': range(len(cluster_centers_x))})\n",
    "good_cluster_centers = cluster_centers[cluster_centers['label'].isin(good_labels)]\n",
    "good_cluster_centers"
   ]
  },
  {
   "cell_type": "code",
   "execution_count": 46,
   "id": "b068d885",
   "metadata": {},
   "outputs": [
    {
     "data": {
      "text/plain": [
       "<matplotlib.collections.PathCollection at 0x2345d7c9280>"
      ]
     },
     "execution_count": 46,
     "metadata": {},
     "output_type": "execute_result"
    },
    {
     "data": {
      "image/png": "[encoded data removed]",
      "text/plain": [
       "<Figure size 432x288 with 1 Axes>"
      ]
     },
     "metadata": {
      "needs_background": "light"
     },
     "output_type": "display_data"
    }
   ],
   "source": [
    "plt.scatter(x=good_cluster_centers['longitude'], y=good_cluster_centers['latitude'], alpha = 0.3)"
   ]
  },
  {
   "cell_type": "markdown",
   "id": "e77049dc",
   "metadata": {},
   "source": [
    "Координаты офисов круизной компании:"
   ]
  },
  {
   "cell_type": "code",
   "execution_count": 38,
   "id": "e4271817",
   "metadata": {},
   "outputs": [],
   "source": [
    "office_addresses = [[34.2720355,-118.4693734], [33.7507188,-118.1889072], [27.9450524,-82.4455656],\n",
    "                  [39.2650447,-76.6007999], [32.717609,-117.1761962], [37.804883,-122.4016302],\n",
    "                  [49.2514431,-123.1277804], [32.7859233,-79.9333731], [30.6860768,-88.0394999],\n",
    "                  [26.1216934,-80.1388889], [33.3882696,-111.6913768], [26.0853385,-80.1180988],\n",
    "                  [30.0068944,-90.1633797], [29.3075638,-94.7986193], [28.4157244,-80.6310168],\n",
    "                  [52.3787031,4.8849274], [47.3831508,8.4987319], [41.3905199,2.1570719],\n",
    "                  [50.4356475,30.5142909], [53.4699633,-2.2947828]]"
   ]
  },
  {
   "cell_type": "markdown",
   "id": "4466b7f5",
   "metadata": {},
   "source": [
    "Определение ближайших к офисам центров кластеров:"
   ]
  },
  {
   "cell_type": "code",
   "execution_count": 42,
   "id": "9f8004a6",
   "metadata": {},
   "outputs": [
    {
     "data": {
      "text/plain": [
       "[[34.19818207092195, -118.54927680780146],\n",
       " [33.8098779552631, -118.14892380690813],\n",
       " [27.94944607964624, -82.4650735999998],\n",
       " [39.28625030782621, -76.61466929101515],\n",
       " [32.71134443394278, -117.15363874791043],\n",
       " [37.68868157406161, -122.40933037359147],\n",
       " [49.24017197830703, -123.11186022275179],\n",
       " [32.78430573736261, -79.9205039857143],\n",
       " [30.6943566, -88.04305410000003],\n",
       " [26.120862658633104, -80.1589066802157],\n",
       " [33.357344562325096, -111.82265410760392],\n",
       " [26.120862658633104, -80.1589066802157],\n",
       " [29.986731291666672, -90.20393365555552],\n",
       " [29.762697754725156, -95.3823137047244],\n",
       " [28.32970167241379, -80.67288769655171],\n",
       " [52.37296399032261, 4.892317222580647],\n",
       " [50.11151180000001, 8.6805059],\n",
       " [40.417455494444454, -3.700910200000001],\n",
       " [55.748349518181776, 37.62385041818183],\n",
       " [51.502991260887086, -0.12553728870967767]]"
      ]
     },
     "execution_count": 42,
     "metadata": {},
     "output_type": "execute_result"
    }
   ],
   "source": [
    "best_centers = []\n",
    "min_distance = 2000\n",
    "closest_center = [1000, 1000]\n",
    "for address in office_addresses:\n",
    "    best_distance = 2000\n",
    "    best_centers.append([1000, 1000])\n",
    "    for i in range(len(good_cluster_centers)):\n",
    "        distance = (address[0] - good_cluster_centers.iloc[i, 1]) ** 2 + (address[1] - good_cluster_centers.iloc[i, 0]) ** 2\n",
    "        if distance < best_distance:\n",
    "            best_distance = distance\n",
    "            best_centers[-1] = [good_cluster_centers.iloc[i, 1], good_cluster_centers.iloc[i, 0]]\n",
    "    if best_distance < min_distance:\n",
    "        closest_center = best_centers[-1]\n",
    "        min_distance = best_distance\n",
    "best_centers"
   ]
  },
  {
   "cell_type": "markdown",
   "id": "532420e5",
   "metadata": {},
   "source": [
    "Центр с самым близким расположением к офису:"
   ]
  },
  {
   "cell_type": "code",
   "execution_count": 43,
   "id": "cd8aa71f",
   "metadata": {},
   "outputs": [
    {
     "data": {
      "text/plain": [
       "[30.6943566, -88.04305410000003]"
      ]
     },
     "execution_count": 43,
     "metadata": {},
     "output_type": "execute_result"
    }
   ],
   "source": [
    "closest_center"
   ]
  }
 ],
 "metadata": {
  "kernelspec": {
   "display_name": "Python 3",
   "language": "python",
   "name": "python3"
  },
  "language_info": {
   "codemirror_mode": {
    "name": "ipython",
    "version": 3
   },
   "file_extension": ".py",
   "mimetype": "text/x-python",
   "name": "python",
   "nbconvert_exporter": "python",
   "pygments_lexer": "ipython3",
   "version": "3.8.8"
  }
 },
 "nbformat": 4,
 "nbformat_minor": 5
}
